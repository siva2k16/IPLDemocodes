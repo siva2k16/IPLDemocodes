{
  "cells": [
    {
      "cell_type": "markdown",
      "id": "d67a4729-cd2f-47e7-a4f6-f84a5677414f",
      "metadata": {
        "id": "d67a4729-cd2f-47e7-a4f6-f84a5677414f"
      },
      "source": [
        "# Basic RAG\n",
        "Retrieval-augmented generation (RAG) is an AI framework that synergizes the capabilities of LLMs and information retrieval systems. It’s useful to answer questions or generate content leveraging external knowledge. There are two main steps in RAG: 1) retrieval: retrieve relevant information from a knowledge base with text embeddings stored in a vector store; 2) generation: insert the relevant information to the prompt for the LLM to generate information. In this guide, we will walk through a very basic example of RAG with four implementations:\n",
        "\n",
        "- RAG from scratch with Mistral\n",
        "- RAG with Mistral and LangChain\n",
        "- RAG with Mistral and LlamaIndex\n",
        "- RAG with Mistral and Haystack\n",
        "\n",
        "## RAG from scratch\n",
        "\n",
        "This section aims to guide you through the process of building a basic RAG from scratch. We have two goals: firstly, to offer users a comprehensive understanding of the internal workings of RAG and demystify the underlying mechanisms; secondly, to empower you with the essential foundations needed to build an RAG using the minimum required dependencies.\n",
        "\n",
        "\n",
        "### Import needed packages\n",
        "The first step is to install the needed packages `mistralai` and `faiss-cpu` and import the needed packages:\n",
        "\n"
      ]
    },
    {
      "cell_type": "code",
      "execution_count": null,
      "id": "b880d1ed-3db0-45a1-807e-1b47e9ce1320",
      "metadata": {
        "id": "b880d1ed-3db0-45a1-807e-1b47e9ce1320",
        "colab": {
          "base_uri": "https://localhost:8080/"
        },
        "outputId": "8ef2f324-ed25-4999-8c47-a3db45bd7606"
      },
      "outputs": [
        {
          "output_type": "stream",
          "name": "stdout",
          "text": [
            "Requirement already satisfied: faiss-cpu==1.7.4 in /usr/local/lib/python3.10/dist-packages (1.7.4)\n",
            "Requirement already satisfied: mistralai in /usr/local/lib/python3.10/dist-packages (0.4.0)\n",
            "Requirement already satisfied: chardet in /usr/local/lib/python3.10/dist-packages (5.2.0)\n",
            "Requirement already satisfied: httpx<0.26,>=0.25 in /usr/local/lib/python3.10/dist-packages (from mistralai) (0.25.2)\n",
            "Requirement already satisfied: orjson<3.11,>=3.9.10 in /usr/local/lib/python3.10/dist-packages (from mistralai) (3.10.3)\n",
            "Requirement already satisfied: pydantic<3.0.0,>=2.5.2 in /usr/local/lib/python3.10/dist-packages (from mistralai) (2.7.3)\n",
            "Requirement already satisfied: anyio in /usr/local/lib/python3.10/dist-packages (from httpx<0.26,>=0.25->mistralai) (3.7.1)\n",
            "Requirement already satisfied: certifi in /usr/local/lib/python3.10/dist-packages (from httpx<0.26,>=0.25->mistralai) (2024.6.2)\n",
            "Requirement already satisfied: httpcore==1.* in /usr/local/lib/python3.10/dist-packages (from httpx<0.26,>=0.25->mistralai) (1.0.5)\n",
            "Requirement already satisfied: idna in /usr/local/lib/python3.10/dist-packages (from httpx<0.26,>=0.25->mistralai) (3.7)\n",
            "Requirement already satisfied: sniffio in /usr/local/lib/python3.10/dist-packages (from httpx<0.26,>=0.25->mistralai) (1.3.1)\n",
            "Requirement already satisfied: h11<0.15,>=0.13 in /usr/local/lib/python3.10/dist-packages (from httpcore==1.*->httpx<0.26,>=0.25->mistralai) (0.14.0)\n",
            "Requirement already satisfied: annotated-types>=0.4.0 in /usr/local/lib/python3.10/dist-packages (from pydantic<3.0.0,>=2.5.2->mistralai) (0.7.0)\n",
            "Requirement already satisfied: pydantic-core==2.18.4 in /usr/local/lib/python3.10/dist-packages (from pydantic<3.0.0,>=2.5.2->mistralai) (2.18.4)\n",
            "Requirement already satisfied: typing-extensions>=4.6.1 in /usr/local/lib/python3.10/dist-packages (from pydantic<3.0.0,>=2.5.2->mistralai) (4.12.1)\n",
            "Requirement already satisfied: exceptiongroup in /usr/local/lib/python3.10/dist-packages (from anyio->httpx<0.26,>=0.25->mistralai) (1.2.1)\n"
          ]
        }
      ],
      "source": [
        "#https://docs.mistral.ai/guides/rag/\n",
        "! pip install faiss-cpu==1.7.4 mistralai chardet"
      ]
    },
    {
      "cell_type": "code",
      "execution_count": null,
      "id": "851612c3-ee93-42e3-a1fb-481f89c9410f",
      "metadata": {
        "id": "851612c3-ee93-42e3-a1fb-481f89c9410f"
      },
      "outputs": [],
      "source": [
        "from mistralai.client import MistralClient\n",
        "from mistralai.models.chat_completion import ChatMessage\n",
        "import requests\n",
        "import numpy as np\n",
        "import faiss\n",
        "import os\n",
        "from getpass import getpass\n",
        "\n",
        "api_key= 'ABC' #getpass(\"Type your API Key\")\n",
        "client = MistralClient(api_key=api_key)"
      ]
    },
    {
      "cell_type": "code",
      "source": [
        "from mistralai.client import MistralClient\n",
        "\n",
        "client = MistralClient(api_key=\"ABC\")\n",
        "\n",
        "embeddings_batch_response = client.embeddings(\n",
        "    model=\"mistral-embed\",\n",
        "    input=[\"Embed this sentence.\", \"As well as this one.\"],\n",
        ")\n"
      ],
      "metadata": {
        "id": "kiqy5q8emvg8"
      },
      "id": "kiqy5q8emvg8",
      "execution_count": null,
      "outputs": []
    },
    {
      "cell_type": "code",
      "source": [
        "len(embeddings_batch_response.data[0].embedding)"
      ],
      "metadata": {
        "colab": {
          "base_uri": "https://localhost:8080/"
        },
        "id": "T0cqsdLAm6IS",
        "outputId": "430a3430-f9c6-4f44-9789-fbc9447bcbc6"
      },
      "id": "T0cqsdLAm6IS",
      "execution_count": null,
      "outputs": [
        {
          "output_type": "execute_result",
          "data": {
            "text/plain": [
              "1024"
            ]
          },
          "metadata": {},
          "execution_count": 80
        }
      ]
    },
    {
      "cell_type": "code",
      "source": [
        "from google.colab import files\n",
        "files.upload()"
      ],
      "metadata": {
        "id": "Cua8L18pj_pg",
        "colab": {
          "base_uri": "https://localhost:8080/",
          "height": 1000
        },
        "outputId": "35e2dac0-b97f-4b6a-d97b-e725cf29e2d2"
      },
      "id": "Cua8L18pj_pg",
      "execution_count": null,
      "outputs": [
        {
          "output_type": "display_data",
          "data": {
            "text/plain": [
              "<IPython.core.display.HTML object>"
            ],
            "text/html": [
              "\n",
              "     <input type=\"file\" id=\"files-426982aa-eaf5-4125-8452-da271e27a328\" name=\"files[]\" multiple disabled\n",
              "        style=\"border:none\" />\n",
              "     <output id=\"result-426982aa-eaf5-4125-8452-da271e27a328\">\n",
              "      Upload widget is only available when the cell has been executed in the\n",
              "      current browser session. Please rerun this cell to enable.\n",
              "      </output>\n",
              "      <script>// Copyright 2017 Google LLC\n",
              "//\n",
              "// Licensed under the Apache License, Version 2.0 (the \"License\");\n",
              "// you may not use this file except in compliance with the License.\n",
              "// You may obtain a copy of the License at\n",
              "//\n",
              "//      http://www.apache.org/licenses/LICENSE-2.0\n",
              "//\n",
              "// Unless required by applicable law or agreed to in writing, software\n",
              "// distributed under the License is distributed on an \"AS IS\" BASIS,\n",
              "// WITHOUT WARRANTIES OR CONDITIONS OF ANY KIND, either express or implied.\n",
              "// See the License for the specific language governing permissions and\n",
              "// limitations under the License.\n",
              "\n",
              "/**\n",
              " * @fileoverview Helpers for google.colab Python module.\n",
              " */\n",
              "(function(scope) {\n",
              "function span(text, styleAttributes = {}) {\n",
              "  const element = document.createElement('span');\n",
              "  element.textContent = text;\n",
              "  for (const key of Object.keys(styleAttributes)) {\n",
              "    element.style[key] = styleAttributes[key];\n",
              "  }\n",
              "  return element;\n",
              "}\n",
              "\n",
              "// Max number of bytes which will be uploaded at a time.\n",
              "const MAX_PAYLOAD_SIZE = 100 * 1024;\n",
              "\n",
              "function _uploadFiles(inputId, outputId) {\n",
              "  const steps = uploadFilesStep(inputId, outputId);\n",
              "  const outputElement = document.getElementById(outputId);\n",
              "  // Cache steps on the outputElement to make it available for the next call\n",
              "  // to uploadFilesContinue from Python.\n",
              "  outputElement.steps = steps;\n",
              "\n",
              "  return _uploadFilesContinue(outputId);\n",
              "}\n",
              "\n",
              "// This is roughly an async generator (not supported in the browser yet),\n",
              "// where there are multiple asynchronous steps and the Python side is going\n",
              "// to poll for completion of each step.\n",
              "// This uses a Promise to block the python side on completion of each step,\n",
              "// then passes the result of the previous step as the input to the next step.\n",
              "function _uploadFilesContinue(outputId) {\n",
              "  const outputElement = document.getElementById(outputId);\n",
              "  const steps = outputElement.steps;\n",
              "\n",
              "  const next = steps.next(outputElement.lastPromiseValue);\n",
              "  return Promise.resolve(next.value.promise).then((value) => {\n",
              "    // Cache the last promise value to make it available to the next\n",
              "    // step of the generator.\n",
              "    outputElement.lastPromiseValue = value;\n",
              "    return next.value.response;\n",
              "  });\n",
              "}\n",
              "\n",
              "/**\n",
              " * Generator function which is called between each async step of the upload\n",
              " * process.\n",
              " * @param {string} inputId Element ID of the input file picker element.\n",
              " * @param {string} outputId Element ID of the output display.\n",
              " * @return {!Iterable<!Object>} Iterable of next steps.\n",
              " */\n",
              "function* uploadFilesStep(inputId, outputId) {\n",
              "  const inputElement = document.getElementById(inputId);\n",
              "  inputElement.disabled = false;\n",
              "\n",
              "  const outputElement = document.getElementById(outputId);\n",
              "  outputElement.innerHTML = '';\n",
              "\n",
              "  const pickedPromise = new Promise((resolve) => {\n",
              "    inputElement.addEventListener('change', (e) => {\n",
              "      resolve(e.target.files);\n",
              "    });\n",
              "  });\n",
              "\n",
              "  const cancel = document.createElement('button');\n",
              "  inputElement.parentElement.appendChild(cancel);\n",
              "  cancel.textContent = 'Cancel upload';\n",
              "  const cancelPromise = new Promise((resolve) => {\n",
              "    cancel.onclick = () => {\n",
              "      resolve(null);\n",
              "    };\n",
              "  });\n",
              "\n",
              "  // Wait for the user to pick the files.\n",
              "  const files = yield {\n",
              "    promise: Promise.race([pickedPromise, cancelPromise]),\n",
              "    response: {\n",
              "      action: 'starting',\n",
              "    }\n",
              "  };\n",
              "\n",
              "  cancel.remove();\n",
              "\n",
              "  // Disable the input element since further picks are not allowed.\n",
              "  inputElement.disabled = true;\n",
              "\n",
              "  if (!files) {\n",
              "    return {\n",
              "      response: {\n",
              "        action: 'complete',\n",
              "      }\n",
              "    };\n",
              "  }\n",
              "\n",
              "  for (const file of files) {\n",
              "    const li = document.createElement('li');\n",
              "    li.append(span(file.name, {fontWeight: 'bold'}));\n",
              "    li.append(span(\n",
              "        `(${file.type || 'n/a'}) - ${file.size} bytes, ` +\n",
              "        `last modified: ${\n",
              "            file.lastModifiedDate ? file.lastModifiedDate.toLocaleDateString() :\n",
              "                                    'n/a'} - `));\n",
              "    const percent = span('0% done');\n",
              "    li.appendChild(percent);\n",
              "\n",
              "    outputElement.appendChild(li);\n",
              "\n",
              "    const fileDataPromise = new Promise((resolve) => {\n",
              "      const reader = new FileReader();\n",
              "      reader.onload = (e) => {\n",
              "        resolve(e.target.result);\n",
              "      };\n",
              "      reader.readAsArrayBuffer(file);\n",
              "    });\n",
              "    // Wait for the data to be ready.\n",
              "    let fileData = yield {\n",
              "      promise: fileDataPromise,\n",
              "      response: {\n",
              "        action: 'continue',\n",
              "      }\n",
              "    };\n",
              "\n",
              "    // Use a chunked sending to avoid message size limits. See b/62115660.\n",
              "    let position = 0;\n",
              "    do {\n",
              "      const length = Math.min(fileData.byteLength - position, MAX_PAYLOAD_SIZE);\n",
              "      const chunk = new Uint8Array(fileData, position, length);\n",
              "      position += length;\n",
              "\n",
              "      const base64 = btoa(String.fromCharCode.apply(null, chunk));\n",
              "      yield {\n",
              "        response: {\n",
              "          action: 'append',\n",
              "          file: file.name,\n",
              "          data: base64,\n",
              "        },\n",
              "      };\n",
              "\n",
              "      let percentDone = fileData.byteLength === 0 ?\n",
              "          100 :\n",
              "          Math.round((position / fileData.byteLength) * 100);\n",
              "      percent.textContent = `${percentDone}% done`;\n",
              "\n",
              "    } while (position < fileData.byteLength);\n",
              "  }\n",
              "\n",
              "  // All done.\n",
              "  yield {\n",
              "    response: {\n",
              "      action: 'complete',\n",
              "    }\n",
              "  };\n",
              "}\n",
              "\n",
              "scope.google = scope.google || {};\n",
              "scope.google.colab = scope.google.colab || {};\n",
              "scope.google.colab._files = {\n",
              "  _uploadFiles,\n",
              "  _uploadFilesContinue,\n",
              "};\n",
              "})(self);\n",
              "</script> "
            ]
          },
          "metadata": {}
        },
        {
          "output_type": "stream",
          "name": "stdout",
          "text": [
            "Saving CS_Support_FAQ.txt to CS_Support_FAQ (1).txt\n"
          ]
        },
        {
          "output_type": "execute_result",
          "data": {
            "text/plain": [
              "{'CS_Support_FAQ (1).txt': b'### Year 2022:\\r\\n1. **Q:** How do I place an order?\\r\\n- **A:** Open the app, browse the menu, select items, add to cart, and proceed to checkout.\\r\\n2. **Q:** What payment methods are accepted?\\r\\n- **A:** We accept credit/debit cards, UPI, and net banking.\\r\\n3. **Q:** Can I schedule an order for later?\\r\\n- **A:** Yes, you can schedule your order while checking out.\\r\\n4. **Q:** How can I track my order?\\r\\n- **A:** Go to the \"My Orders\" section and view the status of your order.\\r\\n5. **Q:** Do you deliver to my area?\\r\\n- **A:** Enter your location in the app to see if we deliver to your area.\\r\\n6. **Q:** Is there a minimum order value for delivery?\\r\\n- **A:** Yes, the minimum order value is $5.\\r\\n7. **Q:** How do I apply a discount code?\\r\\n- **A:** Enter the promo code at the checkout page to apply your discount.\\r\\n8. **Q:** Can I modify my order after placing it?\\r\\n- **A:** You can modify your order before the restaurant starts preparing it.\\r\\n9. **Q:** How do I cancel my order?\\r\\n- **A:** You can cancel your order within the app before the restaurant starts preparing it.\\r\\n10. **Q:** Is there a cancellation fee?\\r\\n- **A:** Cancellation is free if done before the restaurant starts preparing your order.\\r\\n11. **Q:** How do I update my delivery address?\\r\\n- **A:** Go to account settings and update your delivery address.\\r\\n12. **Q:** What if my order is incorrect?\\r\\n- **A:** Contact customer support through the app for assistance.\\r\\n13. **Q:** How can I provide feedback on my order?\\r\\n- **A:** You can rate and review your order in the \"My Orders\" section.\\r\\n14. **Q:** Do you offer contactless delivery?\\r\\n- **A:** Yes, contactless delivery is available. Please select the option during checkout.\\r\\n15. **Q:** Can I add special instructions for my order?\\r\\n- **A:** Yes, you can add special instructions while placing the order.\\r\\n16. **Q:** What if I have food allergies?\\r\\n- **A:** Mention your allergies in the special instructions section.\\r\\n17. **Q:** Can I reorder a past order?\\r\\n- **A:** Yes, you can reorder from the \"Order History\" section.\\r\\n18. **Q:** How do I report missing items?\\r\\n- **A:** Contact customer support through the app to report missing items.\\r\\n19. **Q:** Are there any delivery charges?\\r\\n- **A:** Delivery charges may vary based on your location and order value.\\r\\n20. **Q:** How do I become a member of your loyalty program?\\r\\n- **A:** Sign up for our loyalty program through the app.\\r\\n21. **Q:** What are your customer support hours?\\r\\n- **A:** Our customer support is available 24/7.\\r\\n22. **Q:** Can I pay with cash on delivery?\\r\\n- **A:** Cash on delivery is not available at the moment.\\r\\n23. **Q:** How do I change the payment method after placing the order?\\r\\n- **A:** You cannot change the payment method once the order is placed.\\r\\n24. **Q:** What happens if the restaurant cancels my order?\\r\\n- **A:** You will receive a full refund if the restaurant cancels your order.\\r\\n25. **Q:** How do I apply for a refund?\\r\\n- **A:** Contact customer support through the app for refund assistance.\\r\\n26. **Q:** How long does it take to process a refund?\\r\\n- **A:** Refunds are processed within 5-7 business days.\\r\\n27. **Q:** Can I tip the delivery executive through the app?\\r\\n- **A:** Yes, you can tip the delivery executive while placing the order.\\r\\n28. **Q:** What should I do if my order is late?\\r\\n- **A:** Check the status in the app or contact customer support.\\r\\n29. **Q:** Are there any surcharges for late-night orders?\\r\\n- **A:** Yes, there may be additional surcharges for late-night orders.\\r\\n30. **Q:** How can I get help with the app\\x92s features?\\r\\n- **A:** Visit our help section in the app or contact customer support.\\r\\n31. **Q:** Do I earn points on every order?\\r\\n- **A:** Yes, loyalty points are earned for every order placed.\\r\\n32. **Q:** Can I track the delivery executive\\x92s location?\\r\\n- **A:** Yes, live tracking of your delivery executive is available in the app.\\r\\n33. **Q:** What if the restaurant is closed after I place an order?\\r\\n- **A:** You will be notified, and your payment will be refunded.\\r\\n34. **Q:** Are there options for vegetarian or vegan food?\\r\\n- **A:** Yes, you can filter for vegetarian or vegan options while browsing.\\r\\n35. **Q:** How do I delete my account?\\r\\n- **A:** Contact customer support to delete your account.\\r\\n36. **Q:** Can I share my account with others?\\r\\n- **A:** Sharing accounts is not recommended for security reasons.\\r\\n37. **Q:** How do I change my email address?\\r\\n- **A:** Update your email address in the account settings.\\r\\n38. **Q:** Can I save multiple delivery addresses?\\r\\n- **A:** Yes, you can save multiple addresses in your account settings.\\r\\n39. **Q:** How do I become a delivery executive?\\r\\n- **A:** Apply through our website or app under the \\'Careers\\' section.\\r\\n40. **Q:** Do you support corporate orders?\\r\\n- **A:** Yes, contact our corporate team through the app for more details.\\r\\n### Year 2023:\\r\\n1. **Q:** How can I place an order for pick-up instead of delivery?\\r\\n- **A:** Choose the \\'Pick-up\\' option while placing your order.\\r\\n2. **Q:** What new payment methods are available?\\r\\n- **A:** We now accept digital wallets like PayPal and Google Pay.\\r\\n3. **Q:** Can I refer a friend to earn rewards?\\r\\n- **A:** Yes, use the \\'Refer a Friend\\' feature to earn rewards for each successful referral.\\r\\n4. **Q:** How do I check my loyalty points balance?\\r\\n- **A:** Go to the \\'Loyalty Points\\' section in the app to see your balance.\\r\\n5. **Q:** What is the new minimum order value for delivery?\\r\\n- **A:** The minimum order value has been increased to $7.\\r\\n6. **Q:** Are there exclusive discounts for loyalty members?\\r\\n- **A:** Yes, loyalty members enjoy exclusive discounts and offers.\\r\\n7. **Q:** Can I pre-order for special occasions?\\r\\n- **A:** Yes, you can pre-order meals for special occasions up to a week in advance.\\r\\n8. **Q:** How do I customize an order?\\r\\n- **A:** Use the customization options available for each item in the menu.\\r\\n9. **Q:** Can I see nutritional information for menu items?\\r\\n- **A:** Yes, nutritional information is available for most menu items.\\r\\n10. **Q:** What should I do if I receive a damaged order?\\r\\n- **A:** Contact customer support immediately for assistance.\\r\\n11. **Q:** Are there any new delivery areas added?\\r\\n- **A:** Check the app for updated delivery areas.\\r\\n12. **Q:** How do I opt-out of marketing communications?\\r\\n- **A:** Update your preferences in the account settings.\\r\\n13. **Q:** Is there an option to donate meals?\\r\\n- **A:** Yes, you can donate meals to charity through the app.\\r\\n14. **Q:** Can I rate the delivery executive separately?\\r\\n- **A:** Yes, you can rate the delivery executive separately from the order.\\r\\n15. **Q:** How do I update my payment methods?\\r\\n- **A:** Go to account settings to add or update payment methods.\\r\\n16. **Q:** What if I need to change my order after it\\x92s confirmed?\\r\\n- **A:** Contact customer support to make changes if the restaurant hasn\\'t started preparing it.\\r\\n17. **Q:** Are there any subscription plans for discounts?\\r\\n- **A:** Yes, we offer subscription plans that provide periodic discounts.\\r\\n18. **Q:** How do I report inappropriate service or behavior?\\r\\n- **A:** Use the feedback option to report any issues with service or behavior.\\r\\n19. **Q:** What is the estimated delivery time for my area?\\r\\n- **A:** Delivery times vary; check the app for estimates based on your location.\\r\\n20. **Q:** How do I request a contactless pick-up?\\r\\n- **A:** Select contactless pick-up while placing your order.\\r\\n21. **Q:** Can I schedule recurring orders?\\r\\n- **A:** Yes, you can set up recurring orders for your favorite meals.\\r\\n22. **Q:** How are refunds issued for digital wallet payments?\\r\\n- **A:** Refunds for digital wallets are issued back to the respective wallet.\\r\\n23. **Q:** How do I reset my password?\\r\\n- **A:** Use the \\'Forgot Password\\' link on the login screen to reset your password.\\r\\n24. **Q:** Is there a charge for premium customer support?\\r\\n- **A:** Premium support is available for loyalty program members at no extra charge.\\r\\n25. **Q:** How do I apply multiple promo codes to a single order?\\r\\n- **A:** Only one promo code can be applied per order.\\r\\n26. **Q:** Can I earn cash back on my orders?\\r\\n- **A:** Yes, certain payment methods offer cash back on orders.\\r\\n27. **Q:** What is the policy for bad weather deliveries?\\r\\n- **A:** Deliveries may be delayed or canceled due to bad weather; you will be notified accordingly.\\r\\n28. **Q:** Are there special discounts for first-time users?\\r\\n- **A:** Yes, first-time users receive a special discount on their first order.\\r\\n29. **Q:** How can I pay using cryptocurrency?\\r\\n- **A:** Cryptocurrency payment is currently not supported.\\r\\n30. **Q:** Can I leave a tip for the restaurant staff?\\r\\n- **A:** Yes, tipping options for restaurant staff will be available during checkout.\\r\\n31. **Q:** Are there any additional fees for modifications to the order?\\r\\n- **A:** Fees may apply for certain modifications, and you\\x92ll be notified if applicable.\\r\\n32. **Q:** How do I request urgent delivery?\\r\\n- **A:** Select the \\'Express Delivery\\' option for urgent orders.\\r\\n33. **Q:** Are there eco-friendly packaging options?\\r\\n- **A:** Yes, you can opt for eco-friendly packaging at checkout.\\r\\n34. **Q:** How do I check if my favorite restaurant is delivering?\\r\\n- **A:** Check the restaurant\\'s status in the app to see if they are accepting orders.\\r\\n35. **Q:** How do I request a specific delivery executive?\\r\\n- **A:** Specific delivery executive requests are not supported.\\r\\n36. **Q:** Can I order from multiple restaurants in one delivery?\\r\\n- **A:** Ordering from multiple restaurants in a single delivery is currently not supported.\\r\\n37. **Q:** How can I leave feedback for the app itself?\\r\\n- **A:** Use the \\x91Feedback\\x92 option in the app settings to provide feedback.\\r\\n38. **Q:** Are dietary preference filters available?\\r\\n- **A:** Yes, you can filter items based on dietary preferences such as gluten-free, keto, etc.\\r\\n39. **Q:** What are the service charges applied on orders?\\r\\n- **A:** Service charges vary; detailed breakdowns are available at checkout.\\r\\n40. **Q:** How do I verify my email address?\\r\\n- **A:** Follow the verification link sent to your email upon sign-up.\\r\\n### Year 2024:\\r\\n1. **Q:** What new features have been added to the app?\\r\\n- **A:** We\\x92ve added voice ordering and AI recommendations for users.\\r\\n2. **Q:** Can I share my live delivery status?\\r\\n- **A:** Yes, you can share a live tracking link with others.\\r\\n3. **Q:** What\\x92s the updated minimum order value?\\r\\n- **A:** The minimum order value for delivery is now $10.\\r\\n4. **Q:** How do I subscribe to seasonal offers?\\r\\n- **A:** Opt-in through the \\'Seasonal Offers\\' section in the app settings.\\r\\n5. **Q:** How do I use biometric authentication?\\r\\n- **A:** Enable biometric authentication in the security settings of the app.\\r\\n6. **Q:** Are there meal plans available?\\r\\n- **A:** Yes, we offer various meal plans such as weekly or monthly subscriptions.\\r\\n7. **Q:** How do I check if a restaurant is partnered with us?\\r\\n- **A:** Partnered restaurants are listed in the app; use the search feature.\\r\\n8. **Q:** Can I split payments with friends?\\r\\n- **A:** Yes, we now support split payments among friends.\\r\\n9. **Q:** What\\x92s the new loyalty program?\\r\\n- **A:** The new program offers tier-based rewards and exclusive access to events.\\r\\n10. **Q:** How are taxes computed for my order?\\r\\n- **A:** Taxes are computed based on local tax regulations and displayed at checkout.\\r\\n11. **Q:** How do I set dietary restriction notifications?\\r\\n- **A:** Set your dietary restrictions in the account settings for tailored recommendations.\\r\\n12. **Q:** Can I pre-order during peak hours?\\r\\n- **A:** Yes, pre-ordering is supported even during peak hours.\\r\\n13. **Q:** How do I access customer support via chat?\\r\\n- **A:** Use the \\x91Chat with Us\\x92 feature in the app for instant support.\\r\\n14. **Q:** Are there new member-exclusive restaurants?\\r\\n- **A:** Yes, member-exclusive restaurants have been added.\\r\\n15. **Q:** How do I utilize voice ordering?\\r\\n- **A:** Enable voice ordering in the settings and use the microphone icon to place orders.\\r\\n16. **Q:** Are international cuisines available?\\r\\n- **A:** Yes, we now offer a wider range of international cuisines.\\r\\n17. **Q:** Can I earn rewards through social media sharing?\\r\\n- **A:** Yes, share your orders on social media to earn additional rewards.\\r\\n18. **Q:** How do I enable notifications for delivery updates?\\r\\n- **A:** Enable notifications in the app settings.\\r\\n19. **Q:** Can I get same-day delivery for groceries?\\r\\n- **A:** Yes, same-day grocery delivery is now available in select areas.\\r\\n20. **Q:** How do I apply gift card codes?\\r\\n- **A:** Enter the gift card code at checkout to apply it to your order.\\r\\n21. **Q:** Are there late-night exclusives for loyalty members?\\r\\n- **A:** Yes, loyalty members have access to exclusive late-night menu options.\\r\\n22. **Q:** How do I switch between delivery and pick-up?\\r\\n- **A:** Choose delivery or pick-up while placing your order.\\r\\n23. **Q:** What are the criteria for becoming a premium member?\\r\\n- **A:** Premium membership is based on order frequency and total spend.\\r\\n24. **Q:** How do I set an alternate contact number?\\r\\n- **A:** Add an alternate contact number in account settings.\\r\\n25. **Q:** Are nutritional meal plans offered?\\r\\n- **A:** Yes, we offer nutritionist-approved meal plans.\\r\\n26. **Q:** Can I reserve a table through the app?\\r\\n- **A:** Yes, table reservations are available at select partner restaurants.\\r\\n27. **Q:** How do I enroll in special events?\\r\\n- **A:** Enroll in special events through the \\'Events\\' section in the app.\\r\\n28. **Q:** Are there discounts for bulk orders?\\r\\n- **A:** Yes, bulk order discounts are available. Contact support for more details.\\r\\n29. **Q:** Can I gift a subscription plan?\\r\\n- **A:** Yes, subscription plans can be gifted to friends and family.\\r\\n30. **Q:** How do I toggle on/off app dark mode?\\r\\n- **A:** Toggle dark mode in the app settings.\\r\\n31. **Q:** Can I filter restaurants by hygiene ratings?\\r\\n- **A:** Yes, filter options for hygiene ratings are available.\\r\\n32. **Q:** Are there time-limited flash sales?\\r\\n- **A:** Yes, keep an eye on the app for time-limited flash sales.\\r\\n33. **Q:** How do I manage my saved payment methods?\\r\\n- **A:** Go to payment settings to manage saved payment methods.\\r\\n34. **Q:** What\\x92s the process for free delivery eligibility?\\r\\n- **A:** Free delivery eligibility details are available in the promotion section.\\r\\n35. **Q:** Can I personalize my order recommendations?\\r\\n- **A:** Yes, use the \\'Personalize\\' section in the app to tailor recommendations.\\r\\n36. **Q:** How do I find eco-friendly restaurants?\\r\\n- **A:** Use the eco-friendly filter in the search options.\\r\\n37. **Q:** What are the benefits of being a VIP member?\\r\\n- **A:** VIP members get priority support, exclusive discounts, and early access to new features.\\r\\n38. **Q:** How do I access allergy-safe menus?\\r\\n- **A:** Access allergy-safe menus through dietary filters in the app.\\r\\n39. **Q:** Are tips mandatory for delivery executives?\\r\\n- **A:** Tips are not mandatory but appreciated for exceptional service.\\r\\n40. **Q:** How do I share my feedback directly with the management?\\r\\n- **A:** Use the \\'Contact Management\\' feature in the app for direct feedback.\\r\\n\\r\\n\\r\\n'}"
            ]
          },
          "metadata": {},
          "execution_count": 81
        }
      ]
    },
    {
      "cell_type": "code",
      "source": [
        "import chardet\n",
        "\n",
        "\n",
        "input_filename = 'CS_Support_FAQ.txt'\n",
        "output_filename = 'output.txt'\n",
        "\n",
        "def convert_to_plain_text(input_filename, output_filename):\n",
        "    # Detect the encoding of the input file\n",
        "    with open(input_filename, 'rb') as f:\n",
        "        encoding = chardet.detect(f.read())['encoding']\n",
        "\n",
        "    # Open the input file with the detected encoding\n",
        "    with open(input_filename, 'r', encoding=encoding) as infile:\n",
        "        content = infile.read()\n",
        "\n",
        "    # Write the content to the output file without specifying encoding\n",
        "    with open(output_filename, 'w') as outfile:\n",
        "        outfile.write(content)\n",
        "\n",
        "convert_to_plain_text(input_filename, output_filename)"
      ],
      "metadata": {
        "id": "wRlr_XZyF7A_"
      },
      "id": "wRlr_XZyF7A_",
      "execution_count": null,
      "outputs": []
    },
    {
      "cell_type": "markdown",
      "id": "fe8609d5-9f27-4202-b0be-36db34412998",
      "metadata": {
        "id": "fe8609d5-9f27-4202-b0be-36db34412998"
      },
      "source": [
        "### Get data\n",
        "\n",
        "In this very simple example, we are getting data from an essay written by Paul Graham:"
      ]
    },
    {
      "cell_type": "code",
      "execution_count": null,
      "id": "c4c01740-72b4-482c-b61e-e272a734f01f",
      "metadata": {
        "id": "c4c01740-72b4-482c-b61e-e272a734f01f",
        "colab": {
          "base_uri": "https://localhost:8080/"
        },
        "outputId": "3485e863-fd11-4077-c8b4-ff38bb6e4242"
      },
      "outputs": [
        {
          "output_type": "stream",
          "name": "stdout",
          "text": [
            "'CS_Support_FAQ (1).txt'   CS_Support_FAQ.txt   output.txt   sample_data\n"
          ]
        }
      ],
      "source": [
        "#response = requests.get('https://raw.githubusercontent.com/run-llama/llama_index/main/docs/docs/examples/data/paul_graham/paul_graham_essay.txt')\n",
        "#text = response.text\n",
        "!ls"
      ]
    },
    {
      "cell_type": "markdown",
      "id": "15af760a-f074-4339-81f9-4f370034355e",
      "metadata": {
        "id": "15af760a-f074-4339-81f9-4f370034355e"
      },
      "source": [
        "We can also save the essay in a local file:"
      ]
    },
    {
      "cell_type": "code",
      "execution_count": null,
      "id": "f4a2313f-686f-4b08-a553-cf9006af73eb",
      "metadata": {
        "id": "f4a2313f-686f-4b08-a553-cf9006af73eb"
      },
      "outputs": [],
      "source": [
        "with open('output.txt', 'r', encoding='latin-1') as f:\n",
        "    text = f.read()"
      ]
    },
    {
      "cell_type": "code",
      "execution_count": null,
      "id": "f03f47af-a20b-4122-a114-74b9748ff543",
      "metadata": {
        "id": "f03f47af-a20b-4122-a114-74b9748ff543",
        "outputId": "2593b662-d853-47a2-c8f6-526596eb9de1",
        "colab": {
          "base_uri": "https://localhost:8080/"
        }
      },
      "outputs": [
        {
          "output_type": "execute_result",
          "data": {
            "text/plain": [
              "14995"
            ]
          },
          "metadata": {},
          "execution_count": 85
        }
      ],
      "source": [
        "len(text)"
      ]
    },
    {
      "cell_type": "markdown",
      "id": "aad1aa61-9e1c-46c8-ae5e-61855df440f9",
      "metadata": {
        "id": "aad1aa61-9e1c-46c8-ae5e-61855df440f9"
      },
      "source": [
        "## Split document into chunks\n",
        "\n",
        "In a RAG system, it is crucial to split the document into smaller chunks so that it’s more effective to identify and retrieve the most relevant information in the retrieval process later. In this example, we simply split our text by character, combine 2048 characters into each chunk, and we get 37 chunks."
      ]
    },
    {
      "cell_type": "code",
      "execution_count": null,
      "id": "8494655e-bd87-49de-8f1d-69ffbc1c256e",
      "metadata": {
        "id": "8494655e-bd87-49de-8f1d-69ffbc1c256e"
      },
      "outputs": [],
      "source": [
        "chunk_size = 4096\n",
        "chunks = [text[i:i + chunk_size] for i in range(0, len(text), chunk_size)]"
      ]
    },
    {
      "cell_type": "code",
      "execution_count": null,
      "id": "c78c9936-0c1d-471c-b030-6c45639e7238",
      "metadata": {
        "id": "c78c9936-0c1d-471c-b030-6c45639e7238",
        "outputId": "e6f8c063-a719-4478-9f93-511a73cb1961",
        "colab": {
          "base_uri": "https://localhost:8080/"
        }
      },
      "outputs": [
        {
          "output_type": "execute_result",
          "data": {
            "text/plain": [
              "4"
            ]
          },
          "metadata": {},
          "execution_count": 87
        }
      ],
      "source": [
        "len(chunks)"
      ]
    },
    {
      "cell_type": "markdown",
      "id": "4176cbe3-9b15-4d17-afb1-665011d09bb7",
      "metadata": {
        "id": "4176cbe3-9b15-4d17-afb1-665011d09bb7"
      },
      "source": [
        "#### Considerations:\n",
        "- **Chunk size**: Depending on your specific use case, it may be necessary to customize or experiment with different chunk sizes and chunk overlap to achieve optimal performance in RAG. For example, smaller chunks can be more beneficial in retrieval processes, as larger text chunks often contain filler text that can obscure the semantic representation. As such, using smaller text chunks in the retrieval process can enable the RAG system to identify and extract relevant information more effectively and accurately.  However, it’s worth considering the trade-offs that come with using smaller chunks, such as increasing processing time and computational resources.\n",
        "- **How to split**: While the simplest method is to split the text by character, there are other options depending on the use case and document structure. For example, to avoid exceeding token limits in API calls, it may be necessary to split the text by tokens. To maintain the cohesiveness of the chunks, it can be useful to split the text by sentences, paragraphs, or HTML headers. If working with code, it’s often recommended to split by meaningful code chunks for example using an Abstract Syntax Tree (AST) parser.\n",
        "\n",
        "\n",
        "### Create embeddings for each text chunk\n",
        "For each text chunk, we then need to create text embeddings, which are numeric representations of the text in the vector space. Words with similar meanings are expected to be in closer proximity or have a shorter distance in the vector space.\n",
        "To create an embedding, use Mistral’s embeddings API endpoint and the embedding model `mistral-embed`. We create a `get_text_embedding` to get the embedding from a single text chunk and then we use list comprehension to get text embeddings for all text chunks.\n"
      ]
    },
    {
      "cell_type": "code",
      "execution_count": null,
      "id": "e77d9805-7a53-4210-9f80-f4de52285588",
      "metadata": {
        "id": "e77d9805-7a53-4210-9f80-f4de52285588"
      },
      "outputs": [],
      "source": [
        "def get_text_embedding(input):\n",
        "    embeddings_batch_response = client.embeddings(\n",
        "          model=\"mistral-embed\",\n",
        "          input=input\n",
        "      )\n",
        "    return embeddings_batch_response.data[0].embedding"
      ]
    },
    {
      "cell_type": "code",
      "source": [
        "for chunk in chunks:\n",
        "  print(chunk)"
      ],
      "metadata": {
        "id": "4xSh9PVsl7wB",
        "colab": {
          "base_uri": "https://localhost:8080/"
        },
        "outputId": "4ac6267d-8ba6-4cd2-c5c1-48c75b47c611"
      },
      "id": "4xSh9PVsl7wB",
      "execution_count": null,
      "outputs": [
        {
          "output_type": "stream",
          "name": "stdout",
          "text": [
            "### Year 2022:\n",
            "1. **Q:** How do I place an order?\n",
            "- **A:** Open the app, browse the menu, select items, add to cart, and proceed to checkout.\n",
            "2. **Q:** What payment methods are accepted?\n",
            "- **A:** We accept credit/debit cards, UPI, and net banking.\n",
            "3. **Q:** Can I schedule an order for later?\n",
            "- **A:** Yes, you can schedule your order while checking out.\n",
            "4. **Q:** How can I track my order?\n",
            "- **A:** Go to the \"My Orders\" section and view the status of your order.\n",
            "5. **Q:** Do you deliver to my area?\n",
            "- **A:** Enter your location in the app to see if we deliver to your area.\n",
            "6. **Q:** Is there a minimum order value for delivery?\n",
            "- **A:** Yes, the minimum order value is $5.\n",
            "7. **Q:** How do I apply a discount code?\n",
            "- **A:** Enter the promo code at the checkout page to apply your discount.\n",
            "8. **Q:** Can I modify my order after placing it?\n",
            "- **A:** You can modify your order before the restaurant starts preparing it.\n",
            "9. **Q:** How do I cancel my order?\n",
            "- **A:** You can cancel your order within the app before the restaurant starts preparing it.\n",
            "10. **Q:** Is there a cancellation fee?\n",
            "- **A:** Cancellation is free if done before the restaurant starts preparing your order.\n",
            "11. **Q:** How do I update my delivery address?\n",
            "- **A:** Go to account settings and update your delivery address.\n",
            "12. **Q:** What if my order is incorrect?\n",
            "- **A:** Contact customer support through the app for assistance.\n",
            "13. **Q:** How can I provide feedback on my order?\n",
            "- **A:** You can rate and review your order in the \"My Orders\" section.\n",
            "14. **Q:** Do you offer contactless delivery?\n",
            "- **A:** Yes, contactless delivery is available. Please select the option during checkout.\n",
            "15. **Q:** Can I add special instructions for my order?\n",
            "- **A:** Yes, you can add special instructions while placing the order.\n",
            "16. **Q:** What if I have food allergies?\n",
            "- **A:** Mention your allergies in the special instructions section.\n",
            "17. **Q:** Can I reorder a past order?\n",
            "- **A:** Yes, you can reorder from the \"Order History\" section.\n",
            "18. **Q:** How do I report missing items?\n",
            "- **A:** Contact customer support through the app to report missing items.\n",
            "19. **Q:** Are there any delivery charges?\n",
            "- **A:** Delivery charges may vary based on your location and order value.\n",
            "20. **Q:** How do I become a member of your loyalty program?\n",
            "- **A:** Sign up for our loyalty program through the app.\n",
            "21. **Q:** What are your customer support hours?\n",
            "- **A:** Our customer support is available 24/7.\n",
            "22. **Q:** Can I pay with cash on delivery?\n",
            "- **A:** Cash on delivery is not available at the moment.\n",
            "23. **Q:** How do I change the payment method after placing the order?\n",
            "- **A:** You cannot change the payment method once the order is placed.\n",
            "24. **Q:** What happens if the restaurant cancels my order?\n",
            "- **A:** You will receive a full refund if the restaurant cancels your order.\n",
            "25. **Q:** How do I apply for a refund?\n",
            "- **A:** Contact customer support through the app for refund assistance.\n",
            "26. **Q:** How long does it take to process a refund?\n",
            "- **A:** Refunds are processed within 5-7 business days.\n",
            "27. **Q:** Can I tip the delivery executive through the app?\n",
            "- **A:** Yes, you can tip the delivery executive while placing the order.\n",
            "28. **Q:** What should I do if my order is late?\n",
            "- **A:** Check the status in the app or contact customer support.\n",
            "29. **Q:** Are there any surcharges for late-night orders?\n",
            "- **A:** Yes, there may be additional surcharges for late-night orders.\n",
            "30. **Q:** How can I get help with the appâs features?\n",
            "- **A:** Visit our help section in the app or contact customer support.\n",
            "31. **Q:** Do I earn points on every order?\n",
            "- **A:** Yes, loyalty points are earned for every order placed.\n",
            "32. **Q:** Can I track the delivery executiveâs location?\n",
            "- **A:** Yes, live tracking of your delivery executive is available in the app.\n",
            "33. **Q:** What if the restaurant is closed after I place an order?\n",
            "- **A:** You will be notified, and your payment will be refunded.\n",
            "34. **Q:** Are there options for vegetarian or vegan food?\n",
            "- **A:** Yes, you can filter for vegetarian or vegan options while browsing.\n",
            "35. *\n",
            "*Q:** How do I delete my account?\n",
            "- **A:** Contact customer support to delete your account.\n",
            "36. **Q:** Can I share my account with others?\n",
            "- **A:** Sharing accounts is not recommended for security reasons.\n",
            "37. **Q:** How do I change my email address?\n",
            "- **A:** Update your email address in the account settings.\n",
            "38. **Q:** Can I save multiple delivery addresses?\n",
            "- **A:** Yes, you can save multiple addresses in your account settings.\n",
            "39. **Q:** How do I become a delivery executive?\n",
            "- **A:** Apply through our website or app under the 'Careers' section.\n",
            "40. **Q:** Do you support corporate orders?\n",
            "- **A:** Yes, contact our corporate team through the app for more details.\n",
            "### Year 2023:\n",
            "1. **Q:** How can I place an order for pick-up instead of delivery?\n",
            "- **A:** Choose the 'Pick-up' option while placing your order.\n",
            "2. **Q:** What new payment methods are available?\n",
            "- **A:** We now accept digital wallets like PayPal and Google Pay.\n",
            "3. **Q:** Can I refer a friend to earn rewards?\n",
            "- **A:** Yes, use the 'Refer a Friend' feature to earn rewards for each successful referral.\n",
            "4. **Q:** How do I check my loyalty points balance?\n",
            "- **A:** Go to the 'Loyalty Points' section in the app to see your balance.\n",
            "5. **Q:** What is the new minimum order value for delivery?\n",
            "- **A:** The minimum order value has been increased to $7.\n",
            "6. **Q:** Are there exclusive discounts for loyalty members?\n",
            "- **A:** Yes, loyalty members enjoy exclusive discounts and offers.\n",
            "7. **Q:** Can I pre-order for special occasions?\n",
            "- **A:** Yes, you can pre-order meals for special occasions up to a week in advance.\n",
            "8. **Q:** How do I customize an order?\n",
            "- **A:** Use the customization options available for each item in the menu.\n",
            "9. **Q:** Can I see nutritional information for menu items?\n",
            "- **A:** Yes, nutritional information is available for most menu items.\n",
            "10. **Q:** What should I do if I receive a damaged order?\n",
            "- **A:** Contact customer support immediately for assistance.\n",
            "11. **Q:** Are there any new delivery areas added?\n",
            "- **A:** Check the app for updated delivery areas.\n",
            "12. **Q:** How do I opt-out of marketing communications?\n",
            "- **A:** Update your preferences in the account settings.\n",
            "13. **Q:** Is there an option to donate meals?\n",
            "- **A:** Yes, you can donate meals to charity through the app.\n",
            "14. **Q:** Can I rate the delivery executive separately?\n",
            "- **A:** Yes, you can rate the delivery executive separately from the order.\n",
            "15. **Q:** How do I update my payment methods?\n",
            "- **A:** Go to account settings to add or update payment methods.\n",
            "16. **Q:** What if I need to change my order after itâs confirmed?\n",
            "- **A:** Contact customer support to make changes if the restaurant hasn't started preparing it.\n",
            "17. **Q:** Are there any subscription plans for discounts?\n",
            "- **A:** Yes, we offer subscription plans that provide periodic discounts.\n",
            "18. **Q:** How do I report inappropriate service or behavior?\n",
            "- **A:** Use the feedback option to report any issues with service or behavior.\n",
            "19. **Q:** What is the estimated delivery time for my area?\n",
            "- **A:** Delivery times vary; check the app for estimates based on your location.\n",
            "20. **Q:** How do I request a contactless pick-up?\n",
            "- **A:** Select contactless pick-up while placing your order.\n",
            "21. **Q:** Can I schedule recurring orders?\n",
            "- **A:** Yes, you can set up recurring orders for your favorite meals.\n",
            "22. **Q:** How are refunds issued for digital wallet payments?\n",
            "- **A:** Refunds for digital wallets are issued back to the respective wallet.\n",
            "23. **Q:** How do I reset my password?\n",
            "- **A:** Use the 'Forgot Password' link on the login screen to reset your password.\n",
            "24. **Q:** Is there a charge for premium customer support?\n",
            "- **A:** Premium support is available for loyalty program members at no extra charge.\n",
            "25. **Q:** How do I apply multiple promo codes to a single order?\n",
            "- **A:** Only one promo code can be applied per order.\n",
            "26. **Q:** Can I earn cash back on my orders?\n",
            "- **A:** Yes, certain payment methods offer cash back on orders.\n",
            "27. **Q:** What is the policy for bad weather deliveries?\n",
            "- **A:** Deliveries may be delayed or canceled due to ba\n",
            "d weather; you will be notified accordingly.\n",
            "28. **Q:** Are there special discounts for first-time users?\n",
            "- **A:** Yes, first-time users receive a special discount on their first order.\n",
            "29. **Q:** How can I pay using cryptocurrency?\n",
            "- **A:** Cryptocurrency payment is currently not supported.\n",
            "30. **Q:** Can I leave a tip for the restaurant staff?\n",
            "- **A:** Yes, tipping options for restaurant staff will be available during checkout.\n",
            "31. **Q:** Are there any additional fees for modifications to the order?\n",
            "- **A:** Fees may apply for certain modifications, and youâll be notified if applicable.\n",
            "32. **Q:** How do I request urgent delivery?\n",
            "- **A:** Select the 'Express Delivery' option for urgent orders.\n",
            "33. **Q:** Are there eco-friendly packaging options?\n",
            "- **A:** Yes, you can opt for eco-friendly packaging at checkout.\n",
            "34. **Q:** How do I check if my favorite restaurant is delivering?\n",
            "- **A:** Check the restaurant's status in the app to see if they are accepting orders.\n",
            "35. **Q:** How do I request a specific delivery executive?\n",
            "- **A:** Specific delivery executive requests are not supported.\n",
            "36. **Q:** Can I order from multiple restaurants in one delivery?\n",
            "- **A:** Ordering from multiple restaurants in a single delivery is currently not supported.\n",
            "37. **Q:** How can I leave feedback for the app itself?\n",
            "- **A:** Use the âFeedbackâ option in the app settings to provide feedback.\n",
            "38. **Q:** Are dietary preference filters available?\n",
            "- **A:** Yes, you can filter items based on dietary preferences such as gluten-free, keto, etc.\n",
            "39. **Q:** What are the service charges applied on orders?\n",
            "- **A:** Service charges vary; detailed breakdowns are available at checkout.\n",
            "40. **Q:** How do I verify my email address?\n",
            "- **A:** Follow the verification link sent to your email upon sign-up.\n",
            "### Year 2024:\n",
            "1. **Q:** What new features have been added to the app?\n",
            "- **A:** Weâve added voice ordering and AI recommendations for users.\n",
            "2. **Q:** Can I share my live delivery status?\n",
            "- **A:** Yes, you can share a live tracking link with others.\n",
            "3. **Q:** Whatâs the updated minimum order value?\n",
            "- **A:** The minimum order value for delivery is now $10.\n",
            "4. **Q:** How do I subscribe to seasonal offers?\n",
            "- **A:** Opt-in through the 'Seasonal Offers' section in the app settings.\n",
            "5. **Q:** How do I use biometric authentication?\n",
            "- **A:** Enable biometric authentication in the security settings of the app.\n",
            "6. **Q:** Are there meal plans available?\n",
            "- **A:** Yes, we offer various meal plans such as weekly or monthly subscriptions.\n",
            "7. **Q:** How do I check if a restaurant is partnered with us?\n",
            "- **A:** Partnered restaurants are listed in the app; use the search feature.\n",
            "8. **Q:** Can I split payments with friends?\n",
            "- **A:** Yes, we now support split payments among friends.\n",
            "9. **Q:** Whatâs the new loyalty program?\n",
            "- **A:** The new program offers tier-based rewards and exclusive access to events.\n",
            "10. **Q:** How are taxes computed for my order?\n",
            "- **A:** Taxes are computed based on local tax regulations and displayed at checkout.\n",
            "11. **Q:** How do I set dietary restriction notifications?\n",
            "- **A:** Set your dietary restrictions in the account settings for tailored recommendations.\n",
            "12. **Q:** Can I pre-order during peak hours?\n",
            "- **A:** Yes, pre-ordering is supported even during peak hours.\n",
            "13. **Q:** How do I access customer support via chat?\n",
            "- **A:** Use the âChat with Usâ feature in the app for instant support.\n",
            "14. **Q:** Are there new member-exclusive restaurants?\n",
            "- **A:** Yes, member-exclusive restaurants have been added.\n",
            "15. **Q:** How do I utilize voice ordering?\n",
            "- **A:** Enable voice ordering in the settings and use the microphone icon to place orders.\n",
            "16. **Q:** Are international cuisines available?\n",
            "- **A:** Yes, we now offer a wider range of international cuisines.\n",
            "17. **Q:** Can I earn rewards through social media sharing?\n",
            "- **A:** Yes, share your orders on social media to earn additional rewards.\n",
            "18. **Q:** How do I enable notifications for delivery updates?\n",
            "- **A:** Enable notifications in the app settings.\n",
            "19. **Q:** Can I get same-day delivery f\n",
            "or groceries?\n",
            "- **A:** Yes, same-day grocery delivery is now available in select areas.\n",
            "20. **Q:** How do I apply gift card codes?\n",
            "- **A:** Enter the gift card code at checkout to apply it to your order.\n",
            "21. **Q:** Are there late-night exclusives for loyalty members?\n",
            "- **A:** Yes, loyalty members have access to exclusive late-night menu options.\n",
            "22. **Q:** How do I switch between delivery and pick-up?\n",
            "- **A:** Choose delivery or pick-up while placing your order.\n",
            "23. **Q:** What are the criteria for becoming a premium member?\n",
            "- **A:** Premium membership is based on order frequency and total spend.\n",
            "24. **Q:** How do I set an alternate contact number?\n",
            "- **A:** Add an alternate contact number in account settings.\n",
            "25. **Q:** Are nutritional meal plans offered?\n",
            "- **A:** Yes, we offer nutritionist-approved meal plans.\n",
            "26. **Q:** Can I reserve a table through the app?\n",
            "- **A:** Yes, table reservations are available at select partner restaurants.\n",
            "27. **Q:** How do I enroll in special events?\n",
            "- **A:** Enroll in special events through the 'Events' section in the app.\n",
            "28. **Q:** Are there discounts for bulk orders?\n",
            "- **A:** Yes, bulk order discounts are available. Contact support for more details.\n",
            "29. **Q:** Can I gift a subscription plan?\n",
            "- **A:** Yes, subscription plans can be gifted to friends and family.\n",
            "30. **Q:** How do I toggle on/off app dark mode?\n",
            "- **A:** Toggle dark mode in the app settings.\n",
            "31. **Q:** Can I filter restaurants by hygiene ratings?\n",
            "- **A:** Yes, filter options for hygiene ratings are available.\n",
            "32. **Q:** Are there time-limited flash sales?\n",
            "- **A:** Yes, keep an eye on the app for time-limited flash sales.\n",
            "33. **Q:** How do I manage my saved payment methods?\n",
            "- **A:** Go to payment settings to manage saved payment methods.\n",
            "34. **Q:** Whatâs the process for free delivery eligibility?\n",
            "- **A:** Free delivery eligibility details are available in the promotion section.\n",
            "35. **Q:** Can I personalize my order recommendations?\n",
            "- **A:** Yes, use the 'Personalize' section in the app to tailor recommendations.\n",
            "36. **Q:** How do I find eco-friendly restaurants?\n",
            "- **A:** Use the eco-friendly filter in the search options.\n",
            "37. **Q:** What are the benefits of being a VIP member?\n",
            "- **A:** VIP members get priority support, exclusive discounts, and early access to new features.\n",
            "38. **Q:** How do I access allergy-safe menus?\n",
            "- **A:** Access allergy-safe menus through dietary filters in the app.\n",
            "39. **Q:** Are tips mandatory for delivery executives?\n",
            "- **A:** Tips are not mandatory but appreciated for exceptional service.\n",
            "40. **Q:** How do I share my feedback directly with the management?\n",
            "- **A:** Use the 'Contact Management' feature in the app for direct feedback.\n",
            "\n",
            "\n",
            "\n"
          ]
        }
      ]
    },
    {
      "cell_type": "code",
      "execution_count": null,
      "id": "46503830-6ad5-493e-a629-152721e2d88e",
      "metadata": {
        "id": "46503830-6ad5-493e-a629-152721e2d88e"
      },
      "outputs": [],
      "source": [
        "#text_embeddings = np.array([get_text_embedding(chunk) for chunk in chunks])\n",
        "import time\n",
        "\n",
        "text_embeddings = []\n",
        "for chunk in chunks:\n",
        "    text_embeddings.append(get_text_embedding(chunk))\n",
        "    time.sleep(1)\n",
        "text_embeddings = np.array(text_embeddings)"
      ]
    },
    {
      "cell_type": "code",
      "execution_count": null,
      "id": "ca875993-fe6d-42df-811e-a43891cd0350",
      "metadata": {
        "id": "ca875993-fe6d-42df-811e-a43891cd0350",
        "outputId": "c54d376f-bc69-4b38-812e-46bee30a15d3",
        "colab": {
          "base_uri": "https://localhost:8080/"
        }
      },
      "outputs": [
        {
          "output_type": "execute_result",
          "data": {
            "text/plain": [
              "(4, 1024)"
            ]
          },
          "metadata": {},
          "execution_count": 91
        }
      ],
      "source": [
        "text_embeddings.shape"
      ]
    },
    {
      "cell_type": "code",
      "execution_count": null,
      "id": "55396758-c3f3-45b3-b6e7-d4912c0899f2",
      "metadata": {
        "id": "55396758-c3f3-45b3-b6e7-d4912c0899f2",
        "outputId": "c586079a-9783-4c2a-dc99-f49f32933899",
        "colab": {
          "base_uri": "https://localhost:8080/"
        }
      },
      "outputs": [
        {
          "output_type": "execute_result",
          "data": {
            "text/plain": [
              "array([[-0.00440598,  0.03356934,  0.03118896, ..., -0.02406311,\n",
              "         0.00150681, -0.00355339],\n",
              "       [-0.00426483,  0.04437256,  0.03031921, ..., -0.00618362,\n",
              "         0.00583649,  0.01377869],\n",
              "       [-0.01902771,  0.03201294,  0.03585815, ..., -0.01713562,\n",
              "         0.01415253, -0.00125027],\n",
              "       [-0.0141983 ,  0.03488159,  0.04699707, ..., -0.00625229,\n",
              "         0.00530624,  0.00389671]])"
            ]
          },
          "metadata": {},
          "execution_count": 92
        }
      ],
      "source": [
        "text_embeddings"
      ]
    },
    {
      "cell_type": "markdown",
      "id": "1cba33c7-9d1d-44d8-a01e-e30f16be1aac",
      "metadata": {
        "id": "1cba33c7-9d1d-44d8-a01e-e30f16be1aac"
      },
      "source": [
        "### Load into a vector database\n",
        "Once we get the text embeddings, a common practice is to store them in a vector database for efficient processing and retrieval. There are several vector database to choose from. In our simple example, we are using an open-source vector database Faiss, which allows for efficient similarity search.  \n",
        "\n",
        "With Faiss, we instantiate an instance of the Index class, which defines the indexing structure of the vector database. We then add the text embeddings to this indexing structure.\n"
      ]
    },
    {
      "cell_type": "code",
      "execution_count": null,
      "id": "6a5b1877-b113-4527-9055-cae9049fef08",
      "metadata": {
        "id": "6a5b1877-b113-4527-9055-cae9049fef08"
      },
      "outputs": [],
      "source": [
        "d = text_embeddings.shape[1]\n",
        "index = faiss.IndexFlatL2(d)\n",
        "index.add(text_embeddings)"
      ]
    },
    {
      "cell_type": "markdown",
      "id": "5ee023ab-b26c-4df5-8a7b-7dd660bfad86",
      "metadata": {
        "id": "5ee023ab-b26c-4df5-8a7b-7dd660bfad86"
      },
      "source": [
        "#### Considerations:\n",
        "- **Vector database**: When selecting a vector database, there are several factors to consider including speed, scalability, cloud management, advanced filtering, and open-source vs. closed-source.\n",
        "\n",
        "### Create embeddings for a question\n",
        "Whenever users ask a question, we also need to create embeddings for this question using the same embedding models as before.\n"
      ]
    },
    {
      "cell_type": "code",
      "execution_count": null,
      "id": "894d9764-9da9-4629-8f2a-c9dcaf6ceb8d",
      "metadata": {
        "id": "894d9764-9da9-4629-8f2a-c9dcaf6ceb8d",
        "outputId": "daf3771c-6212-46b6-8485-fa1823393ab3",
        "colab": {
          "base_uri": "https://localhost:8080/"
        }
      },
      "outputs": [
        {
          "output_type": "execute_result",
          "data": {
            "text/plain": [
              "(1, 1024)"
            ]
          },
          "metadata": {},
          "execution_count": 94
        }
      ],
      "source": [
        "question = \"What is cancellation order procedure?\"\n",
        "question_embeddings = np.array([get_text_embedding(question)])\n",
        "question_embeddings.shape"
      ]
    },
    {
      "cell_type": "code",
      "execution_count": null,
      "id": "9c4948cc-6d8b-449f-bc00-abb3591c7222",
      "metadata": {
        "id": "9c4948cc-6d8b-449f-bc00-abb3591c7222",
        "outputId": "caa1c82d-463a-461e-9be8-1e3497ae00a2",
        "colab": {
          "base_uri": "https://localhost:8080/"
        }
      },
      "outputs": [
        {
          "output_type": "execute_result",
          "data": {
            "text/plain": [
              "array([[ 0.01326752,  0.02323914,  0.03015137, ...,  0.00584412,\n",
              "        -0.02120972, -0.00757599]])"
            ]
          },
          "metadata": {},
          "execution_count": 95
        }
      ],
      "source": [
        "question_embeddings"
      ]
    },
    {
      "cell_type": "markdown",
      "id": "15989e10-d0ec-41be-b6be-fa317565a926",
      "metadata": {
        "id": "15989e10-d0ec-41be-b6be-fa317565a926"
      },
      "source": [
        "#### Considerations:\n",
        "- Hypothetical Document Embeddings (HyDE): In some cases, the user’s question might not be the most relevant query to use for identifying the relevant context. Instead, it maybe more effective to generate a hypothetical answer or a hypothetical document based on the user’s query and use the embeddings of the generated text to retrieve similar text chunks.\n",
        "\n",
        "### Retrieve similar chunks from the vector database\n",
        "We can perform a search on the vector database with `index.search`, which takes two arguments: the first is the vector of the question embeddings, and the second is the number of similar vectors to retrieve. This function returns the distances and the indices of the most similar vectors to the question vector in the vector database. Then based on the returned indices, we can retrieve the actual relevant text chunks that correspond to those indices.\n"
      ]
    },
    {
      "cell_type": "code",
      "execution_count": null,
      "id": "c930b378-7aac-434c-881b-ab69d3edb93d",
      "metadata": {
        "id": "c930b378-7aac-434c-881b-ab69d3edb93d",
        "outputId": "e2d24eea-8a6a-4c55-9734-9238727d6e8b",
        "colab": {
          "base_uri": "https://localhost:8080/"
        }
      },
      "outputs": [
        {
          "output_type": "stream",
          "name": "stdout",
          "text": [
            "[[0 1]]\n"
          ]
        }
      ],
      "source": [
        "D, I = index.search(question_embeddings, k=2)\n",
        "print(I)"
      ]
    },
    {
      "cell_type": "code",
      "execution_count": null,
      "id": "73aab584-1dbf-4532-b41e-0403eeeeb567",
      "metadata": {
        "id": "73aab584-1dbf-4532-b41e-0403eeeeb567",
        "outputId": "970b2031-3e92-4244-8ecf-ec045875e21a",
        "colab": {
          "base_uri": "https://localhost:8080/"
        }
      },
      "outputs": [
        {
          "output_type": "stream",
          "name": "stdout",
          "text": [
            "['### Year 2022:\\n1. **Q:** How do I place an order?\\n- **A:** Open the app, browse the menu, select items, add to cart, and proceed to checkout.\\n2. **Q:** What payment methods are accepted?\\n- **A:** We accept credit/debit cards, UPI, and net banking.\\n3. **Q:** Can I schedule an order for later?\\n- **A:** Yes, you can schedule your order while checking out.\\n4. **Q:** How can I track my order?\\n- **A:** Go to the \"My Orders\" section and view the status of your order.\\n5. **Q:** Do you deliver to my area?\\n- **A:** Enter your location in the app to see if we deliver to your area.\\n6. **Q:** Is there a minimum order value for delivery?\\n- **A:** Yes, the minimum order value is $5.\\n7. **Q:** How do I apply a discount code?\\n- **A:** Enter the promo code at the checkout page to apply your discount.\\n8. **Q:** Can I modify my order after placing it?\\n- **A:** You can modify your order before the restaurant starts preparing it.\\n9. **Q:** How do I cancel my order?\\n- **A:** You can cancel your order within the app before the restaurant starts preparing it.\\n10. **Q:** Is there a cancellation fee?\\n- **A:** Cancellation is free if done before the restaurant starts preparing your order.\\n11. **Q:** How do I update my delivery address?\\n- **A:** Go to account settings and update your delivery address.\\n12. **Q:** What if my order is incorrect?\\n- **A:** Contact customer support through the app for assistance.\\n13. **Q:** How can I provide feedback on my order?\\n- **A:** You can rate and review your order in the \"My Orders\" section.\\n14. **Q:** Do you offer contactless delivery?\\n- **A:** Yes, contactless delivery is available. Please select the option during checkout.\\n15. **Q:** Can I add special instructions for my order?\\n- **A:** Yes, you can add special instructions while placing the order.\\n16. **Q:** What if I have food allergies?\\n- **A:** Mention your allergies in the special instructions section.\\n17. **Q:** Can I reorder a past order?\\n- **A:** Yes, you can reorder from the \"Order History\" section.\\n18. **Q:** How do I report missing items?\\n- **A:** Contact customer support through the app to report missing items.\\n19. **Q:** Are there any delivery charges?\\n- **A:** Delivery charges may vary based on your location and order value.\\n20. **Q:** How do I become a member of your loyalty program?\\n- **A:** Sign up for our loyalty program through the app.\\n21. **Q:** What are your customer support hours?\\n- **A:** Our customer support is available 24/7.\\n22. **Q:** Can I pay with cash on delivery?\\n- **A:** Cash on delivery is not available at the moment.\\n23. **Q:** How do I change the payment method after placing the order?\\n- **A:** You cannot change the payment method once the order is placed.\\n24. **Q:** What happens if the restaurant cancels my order?\\n- **A:** You will receive a full refund if the restaurant cancels your order.\\n25. **Q:** How do I apply for a refund?\\n- **A:** Contact customer support through the app for refund assistance.\\n26. **Q:** How long does it take to process a refund?\\n- **A:** Refunds are processed within 5-7 business days.\\n27. **Q:** Can I tip the delivery executive through the app?\\n- **A:** Yes, you can tip the delivery executive while placing the order.\\n28. **Q:** What should I do if my order is late?\\n- **A:** Check the status in the app or contact customer support.\\n29. **Q:** Are there any surcharges for late-night orders?\\n- **A:** Yes, there may be additional surcharges for late-night orders.\\n30. **Q:** How can I get help with the appâ\\x80\\x99s features?\\n- **A:** Visit our help section in the app or contact customer support.\\n31. **Q:** Do I earn points on every order?\\n- **A:** Yes, loyalty points are earned for every order placed.\\n32. **Q:** Can I track the delivery executiveâ\\x80\\x99s location?\\n- **A:** Yes, live tracking of your delivery executive is available in the app.\\n33. **Q:** What if the restaurant is closed after I place an order?\\n- **A:** You will be notified, and your payment will be refunded.\\n34. **Q:** Are there options for vegetarian or vegan food?\\n- **A:** Yes, you can filter for vegetarian or vegan options while browsing.\\n35. *', \"*Q:** How do I delete my account?\\n- **A:** Contact customer support to delete your account.\\n36. **Q:** Can I share my account with others?\\n- **A:** Sharing accounts is not recommended for security reasons.\\n37. **Q:** How do I change my email address?\\n- **A:** Update your email address in the account settings.\\n38. **Q:** Can I save multiple delivery addresses?\\n- **A:** Yes, you can save multiple addresses in your account settings.\\n39. **Q:** How do I become a delivery executive?\\n- **A:** Apply through our website or app under the 'Careers' section.\\n40. **Q:** Do you support corporate orders?\\n- **A:** Yes, contact our corporate team through the app for more details.\\n### Year 2023:\\n1. **Q:** How can I place an order for pick-up instead of delivery?\\n- **A:** Choose the 'Pick-up' option while placing your order.\\n2. **Q:** What new payment methods are available?\\n- **A:** We now accept digital wallets like PayPal and Google Pay.\\n3. **Q:** Can I refer a friend to earn rewards?\\n- **A:** Yes, use the 'Refer a Friend' feature to earn rewards for each successful referral.\\n4. **Q:** How do I check my loyalty points balance?\\n- **A:** Go to the 'Loyalty Points' section in the app to see your balance.\\n5. **Q:** What is the new minimum order value for delivery?\\n- **A:** The minimum order value has been increased to $7.\\n6. **Q:** Are there exclusive discounts for loyalty members?\\n- **A:** Yes, loyalty members enjoy exclusive discounts and offers.\\n7. **Q:** Can I pre-order for special occasions?\\n- **A:** Yes, you can pre-order meals for special occasions up to a week in advance.\\n8. **Q:** How do I customize an order?\\n- **A:** Use the customization options available for each item in the menu.\\n9. **Q:** Can I see nutritional information for menu items?\\n- **A:** Yes, nutritional information is available for most menu items.\\n10. **Q:** What should I do if I receive a damaged order?\\n- **A:** Contact customer support immediately for assistance.\\n11. **Q:** Are there any new delivery areas added?\\n- **A:** Check the app for updated delivery areas.\\n12. **Q:** How do I opt-out of marketing communications?\\n- **A:** Update your preferences in the account settings.\\n13. **Q:** Is there an option to donate meals?\\n- **A:** Yes, you can donate meals to charity through the app.\\n14. **Q:** Can I rate the delivery executive separately?\\n- **A:** Yes, you can rate the delivery executive separately from the order.\\n15. **Q:** How do I update my payment methods?\\n- **A:** Go to account settings to add or update payment methods.\\n16. **Q:** What if I need to change my order after itâ\\x80\\x99s confirmed?\\n- **A:** Contact customer support to make changes if the restaurant hasn't started preparing it.\\n17. **Q:** Are there any subscription plans for discounts?\\n- **A:** Yes, we offer subscription plans that provide periodic discounts.\\n18. **Q:** How do I report inappropriate service or behavior?\\n- **A:** Use the feedback option to report any issues with service or behavior.\\n19. **Q:** What is the estimated delivery time for my area?\\n- **A:** Delivery times vary; check the app for estimates based on your location.\\n20. **Q:** How do I request a contactless pick-up?\\n- **A:** Select contactless pick-up while placing your order.\\n21. **Q:** Can I schedule recurring orders?\\n- **A:** Yes, you can set up recurring orders for your favorite meals.\\n22. **Q:** How are refunds issued for digital wallet payments?\\n- **A:** Refunds for digital wallets are issued back to the respective wallet.\\n23. **Q:** How do I reset my password?\\n- **A:** Use the 'Forgot Password' link on the login screen to reset your password.\\n24. **Q:** Is there a charge for premium customer support?\\n- **A:** Premium support is available for loyalty program members at no extra charge.\\n25. **Q:** How do I apply multiple promo codes to a single order?\\n- **A:** Only one promo code can be applied per order.\\n26. **Q:** Can I earn cash back on my orders?\\n- **A:** Yes, certain payment methods offer cash back on orders.\\n27. **Q:** What is the policy for bad weather deliveries?\\n- **A:** Deliveries may be delayed or canceled due to ba\"]\n"
          ]
        }
      ],
      "source": [
        "retrieved_chunk = [chunks[i] for i in I.tolist()[0]]\n",
        "print(retrieved_chunk)"
      ]
    },
    {
      "cell_type": "markdown",
      "id": "4b417a59-021a-411d-a491-cb31815192cd",
      "metadata": {
        "id": "4b417a59-021a-411d-a491-cb31815192cd"
      },
      "source": [
        "#### Considerations:\n",
        "- **Retrieval methods**: There are a lot different retrieval strategies. In our example, we are showing a simple similarity search with embeddings. Sometimes when there is metadata available for the data, it’s better to filter the data based on the metadata first before performing similarity search. There are also other statistical retrieval methods like TF-IDF and BM25 that use frequency and distribution of terms in the document to identify relevant text chunks.\n",
        "- **Retrieved document**: Do we always retrieve individual text chunk as it is? Not always.\n",
        "    - Sometimes, we would like to include more context around the actual retrieved text chunk. We call the actual retrieve text chunk “child chunk” and our goal is to retrieve a larger “parent chunk” that the “child chunk” belongs to.\n",
        "    - On occasion, we might also want to provide weights to our retrieve documents. For example, a time-weighted approach would help us retrieve the most recent document.\n",
        "    - One common issue in the retrieval process is the “lost in the middle” problem where the information in the middle of a long context gets lost. Our models have tried to mitigate this issue. For example, in the passkey task, our models have demonstrated the ability to find a \"needle in a haystack\" by retrieving a randomly inserted passkey within a long prompt, up to 32k context length. However, it is worth considering experimenting with reordering the document to determine if placing the most relevant chunks at the beginning and end leads to improved results.\n",
        "  \n",
        "### Combine context and question in a prompt and generate response\n",
        "\n",
        "Finally, we can offer the retrieved text chunks as the context information within the prompt. Here is a prompt template where we can include both the retrieved text and user question in the prompt.\n",
        "\n"
      ]
    },
    {
      "cell_type": "code",
      "execution_count": null,
      "id": "da042a53-4564-4057-9a60-9b57dffff6a1",
      "metadata": {
        "id": "da042a53-4564-4057-9a60-9b57dffff6a1"
      },
      "outputs": [],
      "source": [
        "prompt = f\"\"\"\n",
        "Context information is below.\n",
        "---------------------\n",
        "{retrieved_chunk}\n",
        "---------------------\n",
        "Given the context information and not prior knowledge, answer the query.\n",
        "Query: {question}\n",
        "Answer:\n",
        "\"\"\""
      ]
    },
    {
      "cell_type": "code",
      "execution_count": null,
      "id": "e77d975b-5f69-4e9c-8b94-97214517eac7",
      "metadata": {
        "id": "e77d975b-5f69-4e9c-8b94-97214517eac7"
      },
      "outputs": [],
      "source": [
        "def run_mistral(user_message, model=\"mistral-medium-latest\"):\n",
        "    messages = [\n",
        "        ChatMessage(role=\"user\", content=user_message)\n",
        "    ]\n",
        "    chat_response = client.chat(\n",
        "        model=model,\n",
        "        messages=messages\n",
        "    )\n",
        "    return (chat_response.choices[0].message.content)"
      ]
    },
    {
      "cell_type": "code",
      "execution_count": null,
      "id": "1c5c20aa-6673-4105-9c10-886a1e18da8a",
      "metadata": {
        "id": "1c5c20aa-6673-4105-9c10-886a1e18da8a",
        "outputId": "9cb046a4-e75e-4cc4-a9e6-4d629952dca4",
        "colab": {
          "base_uri": "https://localhost:8080/",
          "height": 72
        }
      },
      "outputs": [
        {
          "output_type": "execute_result",
          "data": {
            "text/plain": [
              "'To cancel your order, you can do so within the app before the restaurant starts preparing it. Here are the steps:\\n\\n1. Open the app and go to the \"My Orders\" section.\\n2. Find the order you wish to cancel and tap on it.\\n3. Look for the \"Cancel Order\" button and click on it.\\n4. Confirm the cancellation when prompted.\\n\\nPlease note that cancellation is free if done before the restaurant starts preparing your order. If the restaurant has already started preparing your order, you may not be able to cancel it or you may be charged a cancellation fee.'"
            ],
            "application/vnd.google.colaboratory.intrinsic+json": {
              "type": "string"
            }
          },
          "metadata": {},
          "execution_count": 100
        }
      ],
      "source": [
        "run_mistral(prompt)"
      ]
    },
    {
      "cell_type": "code",
      "source": [
        "!ls"
      ],
      "metadata": {
        "colab": {
          "base_uri": "https://localhost:8080/"
        },
        "id": "lISd1VBEGbOJ",
        "outputId": "34e7f300-cc2a-4c6f-c726-3fba9a8c825c"
      },
      "id": "lISd1VBEGbOJ",
      "execution_count": null,
      "outputs": [
        {
          "output_type": "stream",
          "name": "stdout",
          "text": [
            "'CS_Support_FAQ (1).txt'   CS_Support_FAQ.txt   output.txt   sample_data\n"
          ]
        }
      ]
    },
    {
      "cell_type": "code",
      "source": [
        "#https://docs.mistral.ai/guides/rag/\n",
        "from langchain_community.document_loaders import TextLoader\n",
        "from langchain_mistralai.chat_models import ChatMistralAI\n",
        "from langchain_mistralai.embeddings import MistralAIEmbeddings\n",
        "from langchain_community.vectorstores import FAISS\n",
        "from langchain.text_splitter import RecursiveCharacterTextSplitter\n",
        "from langchain.chains.combine_documents import create_stuff_documents_chain\n",
        "from langchain_core.prompts import ChatPromptTemplate\n",
        "from langchain.chains import create_retrieval_chain\n",
        "\n",
        "# Load data\n",
        "loader = TextLoader(\"output.txt\")\n",
        "docs = loader.load()\n",
        "# Split text into chunks\n",
        "text_splitter = RecursiveCharacterTextSplitter()\n",
        "documents = text_splitter.split_documents(docs)\n",
        "# Define the embedding model\n",
        "embeddings = MistralAIEmbeddings(model=\"mistral-embed\", mistral_api_key=api_key)\n",
        "# Create the vector store\n",
        "vector = FAISS.from_documents(documents, embeddings)\n",
        "# Define a retriever interface\n",
        "retriever = vector.as_retriever()\n",
        "# Define LLM\n",
        "model = ChatMistralAI(mistral_api_key=api_key)\n",
        "# Define prompt template\n",
        "prompt = ChatPromptTemplate.from_template(\"\"\"Answer the following question based only on the provided context:\n",
        "\n",
        "<context>\n",
        "{context}\n",
        "</context>\n",
        "\n",
        "Question: {input}\"\"\")\n",
        "\n",
        "# Create a retrieval chain to answer questions\n",
        "document_chain = create_stuff_documents_chain(model, prompt)\n",
        "retrieval_chain = create_retrieval_chain(retriever, document_chain)\n",
        "response = retrieval_chain.invoke({\"input\": \"How to cancel order ?\"})\n",
        "print(response[\"answer\"])"
      ],
      "metadata": {
        "colab": {
          "base_uri": "https://localhost:8080/"
        },
        "id": "oYqDYLptF0yC",
        "outputId": "6186606a-5558-40c4-a575-06750a4c729b"
      },
      "id": "oYqDYLptF0yC",
      "execution_count": null,
      "outputs": [
        {
          "output_type": "stream",
          "name": "stderr",
          "text": [
            "/usr/local/lib/python3.10/dist-packages/langchain_mistralai/embeddings.py:105: UserWarning: Could not download mistral tokenizer from Huggingface for calculating batch sizes. Set a Huggingface token via the HF_TOKEN environment variable to download the real tokenizer. Falling back to a dummy tokenizer that uses `len()`.\n",
            "  warnings.warn(\n"
          ]
        },
        {
          "output_type": "stream",
          "name": "stdout",
          "text": [
            "To cancel an order, you can do so within the app before the restaurant starts preparing it. Unfortunately, you cannot change the payment method once the order is placed. If the restaurant cancels your order, you will receive a full refund. To apply for a refund, contact customer support through the app. Refunds are processed within 5-7 business days.\n"
          ]
        }
      ]
    },
    {
      "cell_type": "markdown",
      "id": "4e3b531c-4730-4108-ae8a-8de6563e085b",
      "metadata": {
        "id": "4e3b531c-4730-4108-ae8a-8de6563e085b"
      },
      "source": [
        "#### Considerations:\n",
        "- Prompting techniques: Most of the prompting techniques can be used in developing a RAG system as well. For example, we can use few-shot learning to guide the model’s answers by providing a few examples. Additionally, we can explicitly instruct the model to format answers in a certain way.\n",
        "\n",
        "\n",
        "In the next sections, we are going to show you how to do a similar basic RAG with some of the popular RAG frameworks. We will start with LlamaIndex and add other frameworks in the future.\n"
      ]
    },
    {
      "cell_type": "markdown",
      "id": "48f538ee-c561-43a6-a421-a0e7b35638f7",
      "metadata": {
        "id": "48f538ee-c561-43a6-a421-a0e7b35638f7"
      },
      "source": [
        "## LlamaIndex"
      ]
    },
    {
      "cell_type": "code",
      "source": [
        "!ls"
      ],
      "metadata": {
        "colab": {
          "base_uri": "https://localhost:8080/"
        },
        "id": "Aan3fuN5qBSN",
        "outputId": "979f3d16-6196-4e62-dcf2-68566727225d"
      },
      "id": "Aan3fuN5qBSN",
      "execution_count": null,
      "outputs": [
        {
          "output_type": "stream",
          "name": "stdout",
          "text": [
            "'CS_Support_FAQ (1).txt'   CS_Support_FAQ.txt   output.txt   sample_data\n"
          ]
        }
      ]
    },
    {
      "cell_type": "code",
      "source": [
        "import chardet\n",
        "\n",
        "\n",
        "input_filename = 'CS_Support_FAQ.txt'\n",
        "output_filename = 'output.txt'\n",
        "\n",
        "def convert_to_plain_text(input_filename, output_filename):\n",
        "    # Detect the encoding of the input file\n",
        "    with open(input_filename, 'rb') as f:\n",
        "        encoding = chardet.detect(f.read())['encoding']\n",
        "\n",
        "    # Open the input file with the detected encoding\n",
        "    with open(input_filename, 'r', encoding=encoding) as infile:\n",
        "        content = infile.read()\n",
        "\n",
        "    # Write the content to the output file without specifying encoding\n",
        "    with open(output_filename, 'w') as outfile:\n",
        "        outfile.write(content)\n",
        "\n",
        "convert_to_plain_text(input_filename, output_filename)"
      ],
      "metadata": {
        "id": "rI2x7hP9p_NE"
      },
      "id": "rI2x7hP9p_NE",
      "execution_count": null,
      "outputs": []
    },
    {
      "cell_type": "code",
      "source": [
        "!ls"
      ],
      "metadata": {
        "colab": {
          "base_uri": "https://localhost:8080/"
        },
        "outputId": "f5d93b9f-d9f6-404a-eece-913abb14a214",
        "id": "xwfW-297qOAk"
      },
      "execution_count": null,
      "outputs": [
        {
          "output_type": "stream",
          "name": "stdout",
          "text": [
            "'CS_Support_FAQ (1).txt'   CS_Support_FAQ.txt   output.txt   sample_data\n"
          ]
        }
      ],
      "id": "xwfW-297qOAk"
    },
    {
      "cell_type": "code",
      "source": [
        "!ls"
      ],
      "metadata": {
        "colab": {
          "base_uri": "https://localhost:8080/"
        },
        "outputId": "35dbaa5c-614d-4b21-9ae3-ccd9852116cc",
        "id": "bvTDqcnCqM3N"
      },
      "execution_count": null,
      "outputs": [
        {
          "output_type": "stream",
          "name": "stdout",
          "text": [
            "CS_Support_FAQ.txt  sample_data\n"
          ]
        }
      ],
      "id": "bvTDqcnCqM3N"
    },
    {
      "cell_type": "code",
      "execution_count": null,
      "id": "152c2a1e-9564-459c-9ea9-5208da519a90",
      "metadata": {
        "scrolled": true,
        "id": "152c2a1e-9564-459c-9ea9-5208da519a90",
        "colab": {
          "base_uri": "https://localhost:8080/"
        },
        "outputId": "6d64ca24-ac9f-4600-aaab-ae4f891e9dea"
      },
      "outputs": [
        {
          "output_type": "stream",
          "name": "stdout",
          "text": [
            "Requirement already satisfied: llama-index in /usr/local/lib/python3.10/dist-packages (0.10.43)\n",
            "Requirement already satisfied: llama-index-llms-mistralai in /usr/local/lib/python3.10/dist-packages (0.1.15)\n",
            "Requirement already satisfied: llama-index-embeddings-mistralai in /usr/local/lib/python3.10/dist-packages (0.1.4)\n",
            "Requirement already satisfied: llama-index-agent-openai<0.3.0,>=0.1.4 in /usr/local/lib/python3.10/dist-packages (from llama-index) (0.2.7)\n",
            "Requirement already satisfied: llama-index-cli<0.2.0,>=0.1.2 in /usr/local/lib/python3.10/dist-packages (from llama-index) (0.1.12)\n",
            "Requirement already satisfied: llama-index-core==0.10.43 in /usr/local/lib/python3.10/dist-packages (from llama-index) (0.10.43)\n",
            "Requirement already satisfied: llama-index-embeddings-openai<0.2.0,>=0.1.5 in /usr/local/lib/python3.10/dist-packages (from llama-index) (0.1.10)\n",
            "Requirement already satisfied: llama-index-indices-managed-llama-cloud<0.2.0,>=0.1.2 in /usr/local/lib/python3.10/dist-packages (from llama-index) (0.1.6)\n",
            "Requirement already satisfied: llama-index-legacy<0.10.0,>=0.9.48 in /usr/local/lib/python3.10/dist-packages (from llama-index) (0.9.48)\n",
            "Requirement already satisfied: llama-index-llms-openai<0.2.0,>=0.1.13 in /usr/local/lib/python3.10/dist-packages (from llama-index) (0.1.22)\n",
            "Requirement already satisfied: llama-index-multi-modal-llms-openai<0.2.0,>=0.1.3 in /usr/local/lib/python3.10/dist-packages (from llama-index) (0.1.6)\n",
            "Requirement already satisfied: llama-index-program-openai<0.2.0,>=0.1.3 in /usr/local/lib/python3.10/dist-packages (from llama-index) (0.1.6)\n",
            "Requirement already satisfied: llama-index-question-gen-openai<0.2.0,>=0.1.2 in /usr/local/lib/python3.10/dist-packages (from llama-index) (0.1.3)\n",
            "Requirement already satisfied: llama-index-readers-file<0.2.0,>=0.1.4 in /usr/local/lib/python3.10/dist-packages (from llama-index) (0.1.23)\n",
            "Requirement already satisfied: llama-index-readers-llama-parse<0.2.0,>=0.1.2 in /usr/local/lib/python3.10/dist-packages (from llama-index) (0.1.4)\n",
            "Requirement already satisfied: PyYAML>=6.0.1 in /usr/local/lib/python3.10/dist-packages (from llama-index-core==0.10.43->llama-index) (6.0.1)\n",
            "Requirement already satisfied: SQLAlchemy[asyncio]>=1.4.49 in /usr/local/lib/python3.10/dist-packages (from llama-index-core==0.10.43->llama-index) (2.0.30)\n",
            "Requirement already satisfied: aiohttp<4.0.0,>=3.8.6 in /usr/local/lib/python3.10/dist-packages (from llama-index-core==0.10.43->llama-index) (3.9.5)\n",
            "Requirement already satisfied: dataclasses-json in /usr/local/lib/python3.10/dist-packages (from llama-index-core==0.10.43->llama-index) (0.6.6)\n",
            "Requirement already satisfied: deprecated>=1.2.9.3 in /usr/local/lib/python3.10/dist-packages (from llama-index-core==0.10.43->llama-index) (1.2.14)\n",
            "Requirement already satisfied: dirtyjson<2.0.0,>=1.0.8 in /usr/local/lib/python3.10/dist-packages (from llama-index-core==0.10.43->llama-index) (1.0.8)\n",
            "Requirement already satisfied: fsspec>=2023.5.0 in /usr/local/lib/python3.10/dist-packages (from llama-index-core==0.10.43->llama-index) (2023.6.0)\n",
            "Requirement already satisfied: httpx in /usr/local/lib/python3.10/dist-packages (from llama-index-core==0.10.43->llama-index) (0.25.2)\n",
            "Requirement already satisfied: llamaindex-py-client<0.2.0,>=0.1.18 in /usr/local/lib/python3.10/dist-packages (from llama-index-core==0.10.43->llama-index) (0.1.19)\n",
            "Requirement already satisfied: nest-asyncio<2.0.0,>=1.5.8 in /usr/local/lib/python3.10/dist-packages (from llama-index-core==0.10.43->llama-index) (1.6.0)\n",
            "Requirement already satisfied: networkx>=3.0 in /usr/local/lib/python3.10/dist-packages (from llama-index-core==0.10.43->llama-index) (3.3)\n",
            "Requirement already satisfied: nltk<4.0.0,>=3.8.1 in /usr/local/lib/python3.10/dist-packages (from llama-index-core==0.10.43->llama-index) (3.8.1)\n",
            "Requirement already satisfied: numpy in /usr/local/lib/python3.10/dist-packages (from llama-index-core==0.10.43->llama-index) (1.25.2)\n",
            "Requirement already satisfied: openai>=1.1.0 in /usr/local/lib/python3.10/dist-packages (from llama-index-core==0.10.43->llama-index) (1.31.1)\n",
            "Requirement already satisfied: pandas in /usr/local/lib/python3.10/dist-packages (from llama-index-core==0.10.43->llama-index) (2.0.3)\n",
            "Requirement already satisfied: pillow>=9.0.0 in /usr/local/lib/python3.10/dist-packages (from llama-index-core==0.10.43->llama-index) (9.4.0)\n",
            "Requirement already satisfied: requests>=2.31.0 in /usr/local/lib/python3.10/dist-packages (from llama-index-core==0.10.43->llama-index) (2.31.0)\n",
            "Requirement already satisfied: tenacity<9.0.0,>=8.2.0 in /usr/local/lib/python3.10/dist-packages (from llama-index-core==0.10.43->llama-index) (8.3.0)\n",
            "Requirement already satisfied: tiktoken>=0.3.3 in /usr/local/lib/python3.10/dist-packages (from llama-index-core==0.10.43->llama-index) (0.7.0)\n",
            "Requirement already satisfied: tqdm<5.0.0,>=4.66.1 in /usr/local/lib/python3.10/dist-packages (from llama-index-core==0.10.43->llama-index) (4.66.4)\n",
            "Requirement already satisfied: typing-extensions>=4.5.0 in /usr/local/lib/python3.10/dist-packages (from llama-index-core==0.10.43->llama-index) (4.12.1)\n",
            "Requirement already satisfied: typing-inspect>=0.8.0 in /usr/local/lib/python3.10/dist-packages (from llama-index-core==0.10.43->llama-index) (0.9.0)\n",
            "Requirement already satisfied: wrapt in /usr/local/lib/python3.10/dist-packages (from llama-index-core==0.10.43->llama-index) (1.14.1)\n",
            "Requirement already satisfied: mistralai>=0.3.0 in /usr/local/lib/python3.10/dist-packages (from llama-index-llms-mistralai) (0.4.0)\n",
            "Requirement already satisfied: beautifulsoup4<5.0.0,>=4.12.3 in /usr/local/lib/python3.10/dist-packages (from llama-index-readers-file<0.2.0,>=0.1.4->llama-index) (4.12.3)\n",
            "Requirement already satisfied: pypdf<5.0.0,>=4.0.1 in /usr/local/lib/python3.10/dist-packages (from llama-index-readers-file<0.2.0,>=0.1.4->llama-index) (4.2.0)\n",
            "Requirement already satisfied: striprtf<0.0.27,>=0.0.26 in /usr/local/lib/python3.10/dist-packages (from llama-index-readers-file<0.2.0,>=0.1.4->llama-index) (0.0.26)\n",
            "Requirement already satisfied: llama-parse<0.5.0,>=0.4.0 in /usr/local/lib/python3.10/dist-packages (from llama-index-readers-llama-parse<0.2.0,>=0.1.2->llama-index) (0.4.4)\n",
            "Requirement already satisfied: orjson<3.11,>=3.9.10 in /usr/local/lib/python3.10/dist-packages (from mistralai>=0.3.0->llama-index-llms-mistralai) (3.10.3)\n",
            "Requirement already satisfied: pydantic<3.0.0,>=2.5.2 in /usr/local/lib/python3.10/dist-packages (from mistralai>=0.3.0->llama-index-llms-mistralai) (2.7.3)\n",
            "Requirement already satisfied: aiosignal>=1.1.2 in /usr/local/lib/python3.10/dist-packages (from aiohttp<4.0.0,>=3.8.6->llama-index-core==0.10.43->llama-index) (1.3.1)\n",
            "Requirement already satisfied: attrs>=17.3.0 in /usr/local/lib/python3.10/dist-packages (from aiohttp<4.0.0,>=3.8.6->llama-index-core==0.10.43->llama-index) (23.2.0)\n",
            "Requirement already satisfied: frozenlist>=1.1.1 in /usr/local/lib/python3.10/dist-packages (from aiohttp<4.0.0,>=3.8.6->llama-index-core==0.10.43->llama-index) (1.4.1)\n",
            "Requirement already satisfied: multidict<7.0,>=4.5 in /usr/local/lib/python3.10/dist-packages (from aiohttp<4.0.0,>=3.8.6->llama-index-core==0.10.43->llama-index) (6.0.5)\n",
            "Requirement already satisfied: yarl<2.0,>=1.0 in /usr/local/lib/python3.10/dist-packages (from aiohttp<4.0.0,>=3.8.6->llama-index-core==0.10.43->llama-index) (1.9.4)\n",
            "Requirement already satisfied: async-timeout<5.0,>=4.0 in /usr/local/lib/python3.10/dist-packages (from aiohttp<4.0.0,>=3.8.6->llama-index-core==0.10.43->llama-index) (4.0.3)\n",
            "Requirement already satisfied: soupsieve>1.2 in /usr/local/lib/python3.10/dist-packages (from beautifulsoup4<5.0.0,>=4.12.3->llama-index-readers-file<0.2.0,>=0.1.4->llama-index) (2.5)\n",
            "Requirement already satisfied: anyio in /usr/local/lib/python3.10/dist-packages (from httpx->llama-index-core==0.10.43->llama-index) (3.7.1)\n",
            "Requirement already satisfied: certifi in /usr/local/lib/python3.10/dist-packages (from httpx->llama-index-core==0.10.43->llama-index) (2024.6.2)\n",
            "Requirement already satisfied: httpcore==1.* in /usr/local/lib/python3.10/dist-packages (from httpx->llama-index-core==0.10.43->llama-index) (1.0.5)\n",
            "Requirement already satisfied: idna in /usr/local/lib/python3.10/dist-packages (from httpx->llama-index-core==0.10.43->llama-index) (3.7)\n",
            "Requirement already satisfied: sniffio in /usr/local/lib/python3.10/dist-packages (from httpx->llama-index-core==0.10.43->llama-index) (1.3.1)\n",
            "Requirement already satisfied: h11<0.15,>=0.13 in /usr/local/lib/python3.10/dist-packages (from httpcore==1.*->httpx->llama-index-core==0.10.43->llama-index) (0.14.0)\n",
            "Requirement already satisfied: click in /usr/local/lib/python3.10/dist-packages (from nltk<4.0.0,>=3.8.1->llama-index-core==0.10.43->llama-index) (8.1.7)\n",
            "Requirement already satisfied: joblib in /usr/local/lib/python3.10/dist-packages (from nltk<4.0.0,>=3.8.1->llama-index-core==0.10.43->llama-index) (1.4.2)\n",
            "Requirement already satisfied: regex>=2021.8.3 in /usr/local/lib/python3.10/dist-packages (from nltk<4.0.0,>=3.8.1->llama-index-core==0.10.43->llama-index) (2024.5.15)\n",
            "Requirement already satisfied: distro<2,>=1.7.0 in /usr/lib/python3/dist-packages (from openai>=1.1.0->llama-index-core==0.10.43->llama-index) (1.7.0)\n",
            "Requirement already satisfied: annotated-types>=0.4.0 in /usr/local/lib/python3.10/dist-packages (from pydantic<3.0.0,>=2.5.2->mistralai>=0.3.0->llama-index-llms-mistralai) (0.7.0)\n",
            "Requirement already satisfied: pydantic-core==2.18.4 in /usr/local/lib/python3.10/dist-packages (from pydantic<3.0.0,>=2.5.2->mistralai>=0.3.0->llama-index-llms-mistralai) (2.18.4)\n",
            "Requirement already satisfied: charset-normalizer<4,>=2 in /usr/local/lib/python3.10/dist-packages (from requests>=2.31.0->llama-index-core==0.10.43->llama-index) (3.3.2)\n",
            "Requirement already satisfied: urllib3<3,>=1.21.1 in /usr/local/lib/python3.10/dist-packages (from requests>=2.31.0->llama-index-core==0.10.43->llama-index) (2.0.7)\n",
            "Requirement already satisfied: greenlet!=0.4.17 in /usr/local/lib/python3.10/dist-packages (from SQLAlchemy[asyncio]>=1.4.49->llama-index-core==0.10.43->llama-index) (3.0.3)\n",
            "Requirement already satisfied: mypy-extensions>=0.3.0 in /usr/local/lib/python3.10/dist-packages (from typing-inspect>=0.8.0->llama-index-core==0.10.43->llama-index) (1.0.0)\n",
            "Requirement already satisfied: marshmallow<4.0.0,>=3.18.0 in /usr/local/lib/python3.10/dist-packages (from dataclasses-json->llama-index-core==0.10.43->llama-index) (3.21.2)\n",
            "Requirement already satisfied: python-dateutil>=2.8.2 in /usr/local/lib/python3.10/dist-packages (from pandas->llama-index-core==0.10.43->llama-index) (2.8.2)\n",
            "Requirement already satisfied: pytz>=2020.1 in /usr/local/lib/python3.10/dist-packages (from pandas->llama-index-core==0.10.43->llama-index) (2023.4)\n",
            "Requirement already satisfied: tzdata>=2022.1 in /usr/local/lib/python3.10/dist-packages (from pandas->llama-index-core==0.10.43->llama-index) (2024.1)\n",
            "Requirement already satisfied: exceptiongroup in /usr/local/lib/python3.10/dist-packages (from anyio->httpx->llama-index-core==0.10.43->llama-index) (1.2.1)\n",
            "Requirement already satisfied: packaging>=17.0 in /usr/local/lib/python3.10/dist-packages (from marshmallow<4.0.0,>=3.18.0->dataclasses-json->llama-index-core==0.10.43->llama-index) (23.2)\n",
            "Requirement already satisfied: six>=1.5 in /usr/local/lib/python3.10/dist-packages (from python-dateutil>=2.8.2->pandas->llama-index-core==0.10.43->llama-index) (1.16.0)\n"
          ]
        }
      ],
      "source": [
        "!pip install llama-index llama-index-llms-mistralai llama-index-embeddings-mistralai"
      ]
    },
    {
      "cell_type": "code",
      "execution_count": null,
      "id": "96003762-acac-4886-964b-2d6a67f6f724",
      "metadata": {
        "id": "96003762-acac-4886-964b-2d6a67f6f724",
        "colab": {
          "base_uri": "https://localhost:8080/"
        },
        "outputId": "f72a607a-b8da-4a40-b508-1b14105b6d2e"
      },
      "outputs": [
        {
          "output_type": "stream",
          "name": "stdout",
          "text": [
            "You can cancel your order within the app before the restaurant starts preparing it.\n"
          ]
        }
      ],
      "source": [
        "import os\n",
        "from llama_index.core import Settings, SimpleDirectoryReader, VectorStoreIndex\n",
        "from llama_index.llms.mistralai import MistralAI\n",
        "from llama_index.embeddings.mistralai import MistralAIEmbedding\n",
        "\n",
        "# Load data\n",
        "reader = SimpleDirectoryReader(input_files=[\"output.txt\"])\n",
        "documents = reader.load_data()\n",
        "# Define LLM and embedding model\n",
        "Settings.llm = MistralAI(model=\"mistral-medium\", api_key=api_key)\n",
        "Settings.embed_model = MistralAIEmbedding(model_name='mistral-embed', api_key=api_key)\n",
        "# Create vector store index\n",
        "index = VectorStoreIndex.from_documents(documents)\n",
        "# Create query engine\n",
        "query_engine = index.as_query_engine(similarity_top_k=2)\n",
        "response = query_engine.query(\n",
        "    \"How to cancel an order?\"\n",
        ")\n",
        "print(str(response))"
      ]
    }
  ],
  "metadata": {
    "jupytext": {
      "formats": "ipynb,py:light"
    },
    "kernelspec": {
      "display_name": "Python 3 (ipykernel)",
      "language": "python",
      "name": "python3"
    },
    "language_info": {
      "codemirror_mode": {
        "name": "ipython",
        "version": 3
      },
      "file_extension": ".py",
      "mimetype": "text/x-python",
      "name": "python",
      "nbconvert_exporter": "python",
      "pygments_lexer": "ipython3",
      "version": "3.10.0"
    },
    "colab": {
      "provenance": []
    }
  },
  "nbformat": 4,
  "nbformat_minor": 5
}